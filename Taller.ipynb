{
  "nbformat": 4,
  "nbformat_minor": 0,
  "metadata": {
    "colab": {
      "provenance": []
    },
    "kernelspec": {
      "name": "python3",
      "display_name": "Python 3"
    },
    "language_info": {
      "name": "python"
    }
  },
  "cells": [
    {
      "cell_type": "markdown",
      "source": [
        "##Integrantes\n",
        "Maria Paula Benito\n",
        "\n",
        "Vanessa Leon\n",
        "\n",
        "Alejandra Garzon"
      ],
      "metadata": {
        "id": "zzUXgJdkL0E8"
      }
    },
    {
      "cell_type": "markdown",
      "source": [
        "a) Crea un programa que tome una lista de números como entrada y devuelva la suma de todos los números en la lista."
      ],
      "metadata": {
        "id": "M0MAR3qtHBM7"
      }
    },
    {
      "cell_type": "code",
      "source": [
        "lista = [1, 2, 5, 7, 11, 20]\n",
        "suma_de_lista = sum(lista)\n",
        "print(suma_de_lista)"
      ],
      "metadata": {
        "colab": {
          "base_uri": "https://localhost:8080/"
        },
        "id": "7A-UoBaV640T",
        "outputId": "271594d4-b079-4a9c-8190-5b48664d2dc1"
      },
      "execution_count": null,
      "outputs": [
        {
          "output_type": "stream",
          "name": "stdout",
          "text": [
            "46\n"
          ]
        }
      ]
    },
    {
      "cell_type": "markdown",
      "source": [
        "b) Escribe un programa que tome dos listas y devuelva una nueva lista que contenga todos los elementos que son comunes a ambas listas.\n",
        "\n"
      ],
      "metadata": {
        "id": "iCzHfzWDHLSp"
      }
    },
    {
      "cell_type": "code",
      "source": [
        "lista2 = [2, 7, 25, 28]\n",
        "lista3 = list(set(lista) & set(lista2))\n",
        "print(lista3)"
      ],
      "metadata": {
        "id": "qy8o_lvE7gxN",
        "colab": {
          "base_uri": "https://localhost:8080/"
        },
        "outputId": "a361191e-e99e-4be6-879d-ab69f1afdbae"
      },
      "execution_count": null,
      "outputs": [
        {
          "output_type": "stream",
          "name": "stdout",
          "text": [
            "[2, 7]\n"
          ]
        }
      ]
    },
    {
      "cell_type": "markdown",
      "source": [
        "c) Crea un programa que tome una lista de cadenas como entrada y devuelva la longitud de la cadena más larga en la lista."
      ],
      "metadata": {
        "id": "nJuTFUBaHMgx"
      }
    },
    {
      "cell_type": "code",
      "source": [
        "cadena = [\"hola\",\"estamos\", \"en\", \"clase\", \"de\", \"econometría\", \"hoy\", \"es\", \"miercoles\"]\n",
        "\n",
        "mayor=cadena[0]\n",
        "\n",
        "for i in cadena:\n",
        "  if len(i)>=len(mayor):\n",
        "    mayor=i\n",
        "print(mayor)"
      ],
      "metadata": {
        "colab": {
          "base_uri": "https://localhost:8080/"
        },
        "id": "UeBWhrmLAjFq",
        "outputId": "c1d02df4-4448-489e-b9b6-b90023e706d6"
      },
      "execution_count": null,
      "outputs": [
        {
          "output_type": "stream",
          "name": "stdout",
          "text": [
            "econometría\n"
          ]
        }
      ]
    },
    {
      "cell_type": "markdown",
      "source": [
        "d) Escribe un programa que tome una lista de números como entrada y devuelva una nueva lista que contenga solo los números pares de la lista original."
      ],
      "metadata": {
        "id": "TimnfUBhHP0x"
      }
    },
    {
      "cell_type": "code",
      "source": [
        "lista4 = [8, 9, 10, 13, 15, 16, 18, 20]\n",
        "pares1 = [n for n in lista4 if n%2== 0 ]\n",
        "print(pares1)"
      ],
      "metadata": {
        "colab": {
          "base_uri": "https://localhost:8080/"
        },
        "id": "20cktGQOEuzH",
        "outputId": "9e884451-0a4c-4a9e-ed17-a00429bc0f02"
      },
      "execution_count": null,
      "outputs": [
        {
          "output_type": "stream",
          "name": "stdout",
          "text": [
            "[8, 10, 16, 18, 20]\n"
          ]
        }
      ]
    },
    {
      "cell_type": "markdown",
      "source": [
        "e) Crea un programa que tome una lista de cadenas como entrada y devuelva una nueva lista que contenga solo las cadenas que comienzan con la letra \"a\"."
      ],
      "metadata": {
        "id": "Xq5UTqcWHTzB"
      }
    },
    {
      "cell_type": "code",
      "source": [
        "colores = [\"amarillo\", \"verde\", \"azul\", \"rojo\", \"purpura\", \"aguamarina\"]\n",
        "colores_por_a = []\n",
        "for palabra in colores:\n",
        "  if palabra.startswith(\"a\"):\n",
        "    colores_por_a.append(palabra)\n",
        "print(colores_por_a)"
      ],
      "metadata": {
        "id": "mLFk5ooVLFG3",
        "colab": {
          "base_uri": "https://localhost:8080/"
        },
        "outputId": "023dd35b-0f20-4a74-9957-f5fa26fda6b2"
      },
      "execution_count": null,
      "outputs": [
        {
          "output_type": "stream",
          "name": "stdout",
          "text": [
            "['amarillo', 'azul', 'aguamarina']\n"
          ]
        }
      ]
    },
    {
      "cell_type": "markdown",
      "source": [
        "f) Escribe un programa que tome un diccionario como entrada y devuelva el valor asociado con una clave dada."
      ],
      "metadata": {
        "id": "du_3WKgZLFYe"
      }
    },
    {
      "cell_type": "code",
      "source": [
        "\n",
        "def buscar_valor(diccionario0, clave):\n",
        "  if clave in diccionario0:\n",
        "    return diccionario[clave]\n",
        "  else:\n",
        "\n",
        "    print('valor no encontrado')\n",
        "\n",
        "diccionario = {'par': [0, 2, 10], 'letras': ['B', 'D', 'J', 'K']}\n",
        "datos = buscar_valor(diccionario, 'letras')\n",
        "print(datos)"
      ],
      "metadata": {
        "id": "Ga3o_V_pLR_g",
        "colab": {
          "base_uri": "https://localhost:8080/"
        },
        "outputId": "498da50c-557a-412b-937f-df248b64a1de"
      },
      "execution_count": null,
      "outputs": [
        {
          "output_type": "stream",
          "name": "stdout",
          "text": [
            "['B', 'D', 'J', 'K']\n"
          ]
        }
      ]
    },
    {
      "cell_type": "markdown",
      "source": [
        "g) Crea un programa que tome una lista de diccionarios como entrada y devuelva una nueva lista que contenga solo los diccionarios que tienen una cierta clave."
      ],
      "metadata": {
        "id": "ixglV3c5YDv-"
      }
    },
    {
      "cell_type": "code",
      "source": [
        "conjunto = {'vocales':[\"a\", \"e\", \"i\", \"o\", \"u\"],'pares':[2, 4, 6, 8]}\n",
        "print(conjunto.get('vocales'))"
      ],
      "metadata": {
        "colab": {
          "base_uri": "https://localhost:8080/"
        },
        "id": "zCViUpO4YC8I",
        "outputId": "d3d0971e-97ca-4965-9246-b52d4df8eda5"
      },
      "execution_count": null,
      "outputs": [
        {
          "output_type": "stream",
          "name": "stdout",
          "text": [
            "['a', 'e', 'i', 'o', 'u']\n"
          ]
        }
      ]
    },
    {
      "cell_type": "markdown",
      "source": [
        "h) Escribe un programa que tome un diccionario como entrada y devuelva un nuevo diccionario con las claves y los valores intercambiados."
      ],
      "metadata": {
        "id": "HK1M4--gYGyV"
      }
    },
    {
      "cell_type": "code",
      "source": [
        "def nuevo_dicc (diccion):\n",
        "  diccionario4 = {}\n",
        "  for c, v in diccion.items ():\n",
        "     diccionario4[v] = c\n",
        "  return diccionario4\n",
        "\n",
        "diccion = {'animal':'perro','raza':'labrador','color':'chocolate'}\n",
        "invertido = nuevo_dicc(diccion)\n",
        "print (invertido)"
      ],
      "metadata": {
        "colab": {
          "base_uri": "https://localhost:8080/"
        },
        "id": "We8jXgGU_pYK",
        "outputId": "5d71c64b-c0e2-4753-c1fc-503ee2f814d7"
      },
      "execution_count": null,
      "outputs": [
        {
          "output_type": "stream",
          "name": "stdout",
          "text": [
            "{'perro': 'animal', 'labrador': 'raza', 'chocolate': 'color'}\n"
          ]
        }
      ]
    },
    {
      "cell_type": "markdown",
      "source": [
        "i) Crea un programa que tome dos diccionarios como entrada y devuelva un nuevo diccionario que contenga solo los pares clave-valor que son comunes a ambos diccionarios.\n"
      ],
      "metadata": {
        "id": "snFncOJfYL2O"
      }
    },
    {
      "cell_type": "code",
      "source": [
        "a = {'bandera_colombia':[\"amarillo\", \"azul\", \"rojo\"]}\n",
        "b = {'bandera_china':[\"rojo\", \"amarillo\"]}\n",
        "c = list(set(a['bandera_colombia']) & set(b['bandera_china']))\n",
        "print(c)"
      ],
      "metadata": {
        "id": "d2ZD9JULYOJc",
        "colab": {
          "base_uri": "https://localhost:8080/"
        },
        "outputId": "d393d554-9eac-4a1a-b242-4526441d4240"
      },
      "execution_count": null,
      "outputs": [
        {
          "output_type": "stream",
          "name": "stdout",
          "text": [
            "['rojo', 'amarillo']\n"
          ]
        }
      ]
    },
    {
      "cell_type": "markdown",
      "source": [
        "j) Escribe un programa que tome un diccionario como entrada y devuelva un nuevo diccionario con las claves ordenadas alfabéticamente."
      ],
      "metadata": {
        "id": "jEizTGT4YOfO"
      }
    },
    {
      "cell_type": "code",
      "source": [
        "conjunto2 = {'vocales':[\"a\", \"e\", \"i\", \"o\", \"u\"],'pares':[2, 4, 6, 8], 'simbolos':['$', '&', '#', '@']}\n",
        "keys=conjunto2.keys()\n",
        "print(keys)\n",
        "sorted_keys=sorted(keys)\n",
        "print(sorted_keys)"
      ],
      "metadata": {
        "colab": {
          "base_uri": "https://localhost:8080/"
        },
        "id": "HygqGLzDYQ3o",
        "outputId": "88529408-6acb-4ea3-bc96-df76f2333303"
      },
      "execution_count": null,
      "outputs": [
        {
          "output_type": "stream",
          "name": "stdout",
          "text": [
            "dict_keys(['vocales', 'pares', 'simbolos'])\n",
            "['pares', 'simbolos', 'vocales']\n"
          ]
        }
      ]
    },
    {
      "cell_type": "markdown",
      "source": [
        "k) Escribe una función que tome dos números como entrada y devuelva su suma.\n"
      ],
      "metadata": {
        "id": "kfgeJFbFYRRD"
      }
    },
    {
      "cell_type": "code",
      "source": [
        "def sumar_numeros(a, b):\n",
        "  return a + b\n",
        "\n",
        "num2 = 6\n",
        "num3 = 25\n",
        "print(sumar_numeros(num2, num3))"
      ],
      "metadata": {
        "colab": {
          "base_uri": "https://localhost:8080/"
        },
        "id": "3vtpBwFDYXOB",
        "outputId": "226bb855-5835-4d2c-85dc-a72af5a57efc"
      },
      "execution_count": null,
      "outputs": [
        {
          "output_type": "stream",
          "name": "stdout",
          "text": [
            "31\n"
          ]
        }
      ]
    },
    {
      "cell_type": "markdown",
      "source": [
        "l) Crea una función que tome una lista de cadenas como entrada y devuelva una nueva lista que contenga solo las cadenas que son más largas que una longitud dada.\n"
      ],
      "metadata": {
        "id": "C5FB_Z4sYXha"
      }
    },
    {
      "cell_type": "code",
      "source": [
        "alumnos = [\"Natalia\", \"Andres\", \"Camilo\", \"Julian\", \"Santiago\", \"Tania\", \"Juliana\", \"Paula\", \"Cristian\", \"Jose\"]\n",
        "for j in alumnos:\n",
        "  if len(j) > 7:\n",
        "    print (j)"
      ],
      "metadata": {
        "id": "yMpgCYGtYZ7o",
        "colab": {
          "base_uri": "https://localhost:8080/"
        },
        "outputId": "3fceae10-97cc-4d89-9c40-06a8043aaf7b"
      },
      "execution_count": null,
      "outputs": [
        {
          "output_type": "stream",
          "name": "stdout",
          "text": [
            "Santiago\n",
            "Cristian\n"
          ]
        }
      ]
    },
    {
      "cell_type": "markdown",
      "source": [
        "m) Escribe una función que tome una cadena como entrada y devuelva True si la cadena es un palíndromo, False en caso contrario.\n"
      ],
      "metadata": {
        "id": "1gV2qwRUYacb"
      }
    },
    {
      "cell_type": "code",
      "source": [
        "palabra = ['sostenemos']\n",
        "def si_o_no(palabra):\n",
        "  start = 0\n",
        "  end = len (palabra) -1\n",
        "  while palabra[start] == palabra[end]:\n",
        "    if start >= end:\n",
        "      return True\n",
        "    start += 1\n",
        "    end -= 1\n",
        "  return False\n",
        "\n",
        "print(si_o_no(palabra)) "
      ],
      "metadata": {
        "colab": {
          "base_uri": "https://localhost:8080/"
        },
        "id": "mNM8iWugf1T0",
        "outputId": "13377e64-1aab-419a-f990-1aee1c19207e"
      },
      "execution_count": null,
      "outputs": [
        {
          "output_type": "stream",
          "name": "stdout",
          "text": [
            "True\n"
          ]
        }
      ]
    },
    {
      "cell_type": "markdown",
      "source": [
        "n) Crea una función que tome una lista de números como entrada y devuelva el promedio de todos los números en la lista.\n"
      ],
      "metadata": {
        "id": "YequBOd3YdiE"
      }
    },
    {
      "cell_type": "code",
      "source": [
        "lista6 = [1, 2, 6, 8, 20, 26, 54, 67]\n",
        "def obtener_promedio(lista6):\n",
        "  if len(lista6) == 0:\n",
        "    return 0\n",
        "  else:\n",
        "    return sum(lista6) / len(lista6)\n",
        "print(obtener_promedio(lista6))"
      ],
      "metadata": {
        "colab": {
          "base_uri": "https://localhost:8080/"
        },
        "id": "NVKnIn6AYf9x",
        "outputId": "04467d07-0a02-4529-afab-8b254d98a0c7"
      },
      "execution_count": null,
      "outputs": [
        {
          "output_type": "stream",
          "name": "stdout",
          "text": [
            "23.0\n"
          ]
        }
      ]
    },
    {
      "cell_type": "markdown",
      "source": [
        "o) Escribe una función que tome un diccionario como entrada y devuelva una lista de todas las claves en el diccionario.\n"
      ],
      "metadata": {
        "id": "WlI3t6P7YgOe"
      }
    },
    {
      "cell_type": "code",
      "source": [
        "conjunto2.items()"
      ],
      "metadata": {
        "id": "EAdskJxj_NGa",
        "colab": {
          "base_uri": "https://localhost:8080/"
        },
        "outputId": "935e4e67-cf3d-4583-a3d9-4cb95660a1cf"
      },
      "execution_count": null,
      "outputs": [
        {
          "output_type": "execute_result",
          "data": {
            "text/plain": [
              "dict_items([('vocales', ['a', 'e', 'i', 'o', 'u']), ('pares', [2, 4, 6, 8]), ('simbolos', ['$', '&', '#', '@'])])"
            ]
          },
          "metadata": {},
          "execution_count": 13
        }
      ]
    },
    {
      "cell_type": "markdown",
      "source": [
        "p) Escribe un programa que tome una lista de números como entrada y devuelva el valor máximo en la lista.\n"
      ],
      "metadata": {
        "id": "Lz0obvIaYifT"
      }
    },
    {
      "cell_type": "code",
      "source": [
        "lista7 = [1, 5, 15, 26, 78, 95, 22, 10]\n",
        "def obtener_valor_maximo(lista7):\n",
        "  if len(lista7) == 0:\n",
        "    return None\n",
        "  else:\n",
        "    return max(lista7)\n",
        "print(obtener_valor_maximo(lista7))\n"
      ],
      "metadata": {
        "colab": {
          "base_uri": "https://localhost:8080/"
        },
        "id": "3JKW89VNYkxg",
        "outputId": "3cac1336-e759-44bf-99c5-7fccdb5280a2"
      },
      "execution_count": null,
      "outputs": [
        {
          "output_type": "stream",
          "name": "stdout",
          "text": [
            "95\n"
          ]
        }
      ]
    },
    {
      "cell_type": "markdown",
      "source": [
        "q) Crea un programa que tome una cadena como entrada y devuelva una nueva cadena que contenga solo las vocales en la cadena original."
      ],
      "metadata": {
        "id": "APsF42VbYlEQ"
      }
    },
    {
      "cell_type": "code",
      "source": [
        "frase = 'clase de econometria'\n",
        "def vocales_frase(frase):\n",
        "  vocales = 'aeiou'\n",
        "  return[i for i in frase if i in vocales]\n",
        "\n",
        "print(vocales_frase(frase))"
      ],
      "metadata": {
        "id": "wSdKmLxpYm73",
        "colab": {
          "base_uri": "https://localhost:8080/"
        },
        "outputId": "38409e3d-4bf5-4f07-ccf5-ed2097eee9ec"
      },
      "execution_count": null,
      "outputs": [
        {
          "output_type": "stream",
          "name": "stdout",
          "text": [
            "['a', 'e', 'e', 'e', 'o', 'o', 'e', 'i', 'a']\n"
          ]
        }
      ]
    },
    {
      "cell_type": "markdown",
      "source": [
        "r) Escribe un programa que tome una lista de números como entrada y devuelva una nueva lista que contenga los valores al cuadrado de cada número en la lista original."
      ],
      "metadata": {
        "id": "W10lKX9jYnOY"
      }
    },
    {
      "cell_type": "code",
      "source": [
        "listax = [1, 3, 9]\n",
        "def numeros_alcubo(listax):\n",
        "  list_alcubo = []\n",
        "  for n in listax:\n",
        "    list_alcubo.append(n ** 3)\n",
        "  return list_alcubo\n",
        "\n",
        "print(numeros_alcubo(listax))"
      ],
      "metadata": {
        "id": "hf0PiGV_Ypbh",
        "colab": {
          "base_uri": "https://localhost:8080/"
        },
        "outputId": "fe50f141-a811-416a-f67c-5dd33bbcac3e"
      },
      "execution_count": null,
      "outputs": [
        {
          "output_type": "stream",
          "name": "stdout",
          "text": [
            "[1, 27, 729]\n"
          ]
        }
      ]
    },
    {
      "cell_type": "markdown",
      "source": [
        "s) Crea un programa que tome una cadena como entrada y devuelva una nueva cadena con los caracteres en orden inverso.\n"
      ],
      "metadata": {
        "id": "ed53tXR_Yp5l"
      }
    },
    {
      "cell_type": "code",
      "source": [
        "frase2 = 'aprender programacion'\n",
        "def frase2_inverso(frase2):\n",
        "  return frase2 [::-1]\n",
        "\n",
        "print(frase2_inverso(frase2))"
      ],
      "metadata": {
        "id": "ylBs-l9IYsH3",
        "colab": {
          "base_uri": "https://localhost:8080/"
        },
        "outputId": "14b09d33-ebcb-4ea2-d771-4d408630cd54"
      },
      "execution_count": null,
      "outputs": [
        {
          "output_type": "stream",
          "name": "stdout",
          "text": [
            "noicamargorp rednerpa\n"
          ]
        }
      ]
    },
    {
      "cell_type": "markdown",
      "source": [
        "t) Escribe un programa que tome una lista de cadenas como entrada y devuelva una nueva lista que contenga la longitud de cada cadena en la lista original."
      ],
      "metadata": {
        "id": "E_BvNbvTYsZt"
      }
    },
    {
      "cell_type": "code",
      "source": [
        "entretenimiento = [\"cine\", \"deporte\", \"musica\", \"tv\", \"videojuegos\"]\n",
        "def longi_de_entretenimiento(entretenimiento):\n",
        "  longi = []\n",
        "\n",
        "  for i in entretenimiento:\n",
        "    longi.append(len(i))\n",
        "  return longi \n",
        "longi = longi_de_entretenimiento(entretenimiento)\n",
        "print(longi)"
      ],
      "metadata": {
        "id": "QKiEnrC9YvMD",
        "colab": {
          "base_uri": "https://localhost:8080/"
        },
        "outputId": "e2fb50d0-4048-4c83-fc5e-4a9bba777ff9"
      },
      "execution_count": null,
      "outputs": [
        {
          "output_type": "stream",
          "name": "stdout",
          "text": [
            "[4, 7, 6, 2, 11]\n"
          ]
        }
      ]
    }
  ]
}